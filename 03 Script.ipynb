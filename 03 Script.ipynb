{
 "cells": [
  {
   "cell_type": "markdown",
   "metadata": {},
   "source": [
    "# Script de Transformación.  \n",
    "Se realiza el proceso de transformación para cada una de las tablas, así como la codificación del Fact para optimización de espacio. Por último se añade la información a la base de datos "
   ]
  },
  {
   "cell_type": "code",
   "execution_count": 1,
   "metadata": {},
   "outputs": [],
   "source": [
    "# En caso de no estar activo se activa el entorno virtual \n",
    "!.\\venv\\Scripts\\activate"
   ]
  },
  {
   "cell_type": "code",
   "execution_count": 2,
   "metadata": {},
   "outputs": [],
   "source": [
    "# Se realiza el cargue de las librerías necesarias \n",
    "import pandas as pd #Transformacion de datos \n",
    "import os # Estandarización de urls para correcta ejecución en cualquier dispositivo\n",
    "import duckdb"
   ]
  },
  {
   "cell_type": "markdown",
   "metadata": {},
   "source": [
    "## Cargue de la base de datos cruda\n",
    "Se realiza el cargue de la información cruda y se eliminan aquellas columnas que no contienen nada de información"
   ]
  },
  {
   "cell_type": "code",
   "execution_count": 3,
   "metadata": {},
   "outputs": [],
   "source": [
    "# Se identifica ubicación del repositorio\n",
    "user = os.getcwd()\n",
    "path_data = rf\"{user}\\00 Inputs\\netflix_titles.csv\"\n",
    "\n",
    "# Se realiza el cargue de la información\n",
    "df = pd.read_csv(path_data, encoding = 'latin1')\n",
    "\n",
    "# Se eliminan columnas que no contiene nada de informacion\n",
    "df_cleaned = df.dropna(axis=1, how='all')"
   ]
  },
  {
   "cell_type": "markdown",
   "metadata": {},
   "source": [
    "# Proceso de transformación de acuerdo al modelo entidad relación \n",
    "\n",
    "A continuación se realizará el proceso de estructuración de cada una de las tablas de **Dimensión** con el fin de realizar el cargue en la base de datos"
   ]
  },
  {
   "cell_type": "markdown",
   "metadata": {},
   "source": [
    "### Dimension de fechas"
   ]
  },
  {
   "cell_type": "code",
   "execution_count": 4,
   "metadata": {},
   "outputs": [
    {
     "name": "stdout",
     "output_type": "stream",
     "text": [
      "min 2008-01-01 00:00:00 max 2024-04-05 00:00:00\n"
     ]
    },
    {
     "data": {
      "text/html": [
       "<div>\n",
       "<style scoped>\n",
       "    .dataframe tbody tr th:only-of-type {\n",
       "        vertical-align: middle;\n",
       "    }\n",
       "\n",
       "    .dataframe tbody tr th {\n",
       "        vertical-align: top;\n",
       "    }\n",
       "\n",
       "    .dataframe thead th {\n",
       "        text-align: right;\n",
       "    }\n",
       "</style>\n",
       "<table border=\"1\" class=\"dataframe\">\n",
       "  <thead>\n",
       "    <tr style=\"text-align: right;\">\n",
       "      <th></th>\n",
       "      <th>date</th>\n",
       "      <th>day</th>\n",
       "      <th>month</th>\n",
       "      <th>year</th>\n",
       "    </tr>\n",
       "  </thead>\n",
       "  <tbody>\n",
       "    <tr>\n",
       "      <th>0</th>\n",
       "      <td>2008-01-01</td>\n",
       "      <td>1</td>\n",
       "      <td>January</td>\n",
       "      <td>2008</td>\n",
       "    </tr>\n",
       "    <tr>\n",
       "      <th>1</th>\n",
       "      <td>2008-01-02</td>\n",
       "      <td>2</td>\n",
       "      <td>January</td>\n",
       "      <td>2008</td>\n",
       "    </tr>\n",
       "    <tr>\n",
       "      <th>2</th>\n",
       "      <td>2008-01-03</td>\n",
       "      <td>3</td>\n",
       "      <td>January</td>\n",
       "      <td>2008</td>\n",
       "    </tr>\n",
       "    <tr>\n",
       "      <th>3</th>\n",
       "      <td>2008-01-04</td>\n",
       "      <td>4</td>\n",
       "      <td>January</td>\n",
       "      <td>2008</td>\n",
       "    </tr>\n",
       "    <tr>\n",
       "      <th>4</th>\n",
       "      <td>2008-01-05</td>\n",
       "      <td>5</td>\n",
       "      <td>January</td>\n",
       "      <td>2008</td>\n",
       "    </tr>\n",
       "    <tr>\n",
       "      <th>...</th>\n",
       "      <td>...</td>\n",
       "      <td>...</td>\n",
       "      <td>...</td>\n",
       "      <td>...</td>\n",
       "    </tr>\n",
       "    <tr>\n",
       "      <th>5935</th>\n",
       "      <td>2024-04-01</td>\n",
       "      <td>1</td>\n",
       "      <td>April</td>\n",
       "      <td>2024</td>\n",
       "    </tr>\n",
       "    <tr>\n",
       "      <th>5936</th>\n",
       "      <td>2024-04-02</td>\n",
       "      <td>2</td>\n",
       "      <td>April</td>\n",
       "      <td>2024</td>\n",
       "    </tr>\n",
       "    <tr>\n",
       "      <th>5937</th>\n",
       "      <td>2024-04-03</td>\n",
       "      <td>3</td>\n",
       "      <td>April</td>\n",
       "      <td>2024</td>\n",
       "    </tr>\n",
       "    <tr>\n",
       "      <th>5938</th>\n",
       "      <td>2024-04-04</td>\n",
       "      <td>4</td>\n",
       "      <td>April</td>\n",
       "      <td>2024</td>\n",
       "    </tr>\n",
       "    <tr>\n",
       "      <th>5939</th>\n",
       "      <td>2024-04-05</td>\n",
       "      <td>5</td>\n",
       "      <td>April</td>\n",
       "      <td>2024</td>\n",
       "    </tr>\n",
       "  </tbody>\n",
       "</table>\n",
       "<p>5940 rows × 4 columns</p>\n",
       "</div>"
      ],
      "text/plain": [
       "           date  day    month  year\n",
       "0    2008-01-01    1  January  2008\n",
       "1    2008-01-02    2  January  2008\n",
       "2    2008-01-03    3  January  2008\n",
       "3    2008-01-04    4  January  2008\n",
       "4    2008-01-05    5  January  2008\n",
       "...         ...  ...      ...   ...\n",
       "5935 2024-04-01    1    April  2024\n",
       "5936 2024-04-02    2    April  2024\n",
       "5937 2024-04-03    3    April  2024\n",
       "5938 2024-04-04    4    April  2024\n",
       "5939 2024-04-05    5    April  2024\n",
       "\n",
       "[5940 rows x 4 columns]"
      ]
     },
     "execution_count": 4,
     "metadata": {},
     "output_type": "execute_result"
    }
   ],
   "source": [
    "# Se convierte la columna date_added to datetime\n",
    "df['date_added'] = pd.to_datetime(df['date_added'], errors='coerce')\n",
    "\n",
    "# Obtener la fecha mínima y máxima\n",
    "min_date = df['date_added'].min()\n",
    "max_date = df['date_added'].max()\n",
    "print(\"min\", min_date, \"max\", max_date)\n",
    "\n",
    "# Crear un rango de fechas desde min_date hasta max_date\n",
    "date_range = pd.date_range(start=min_date, end=max_date)\n",
    "\n",
    "# Crear el DataFrame DimDate con el rango de fechas\n",
    "DimDate = pd.DataFrame(date_range, columns=['date'])\n",
    "\n",
    "# Extraer día, mes y año de la columna 'date'\n",
    "DimDate['day'] = DimDate['date'].dt.day\n",
    "DimDate['month'] = DimDate['date'].dt.strftime('%B')  # Nombre completo del mes\n",
    "DimDate['year'] = DimDate['date'].dt.year\n",
    "\n",
    "# Agregar un ID único para cada fecha\n",
    "DimDate = DimDate.reset_index().rename(columns={'index': 'date_id'})\n",
    "DimDate = DimDate[['date', 'day', 'month', 'year']]\n",
    "DimDate"
   ]
  },
  {
   "cell_type": "markdown",
   "metadata": {},
   "source": [
    "### Dimension de Tipo de Show"
   ]
  },
  {
   "cell_type": "code",
   "execution_count": 5,
   "metadata": {},
   "outputs": [
    {
     "data": {
      "text/html": [
       "<div>\n",
       "<style scoped>\n",
       "    .dataframe tbody tr th:only-of-type {\n",
       "        vertical-align: middle;\n",
       "    }\n",
       "\n",
       "    .dataframe tbody tr th {\n",
       "        vertical-align: top;\n",
       "    }\n",
       "\n",
       "    .dataframe thead th {\n",
       "        text-align: right;\n",
       "    }\n",
       "</style>\n",
       "<table border=\"1\" class=\"dataframe\">\n",
       "  <thead>\n",
       "    <tr style=\"text-align: right;\">\n",
       "      <th></th>\n",
       "      <th>type_id</th>\n",
       "      <th>type</th>\n",
       "    </tr>\n",
       "  </thead>\n",
       "  <tbody>\n",
       "    <tr>\n",
       "      <th>0</th>\n",
       "      <td>0</td>\n",
       "      <td>Movie</td>\n",
       "    </tr>\n",
       "    <tr>\n",
       "      <th>1</th>\n",
       "      <td>1</td>\n",
       "      <td>TV Show</td>\n",
       "    </tr>\n",
       "  </tbody>\n",
       "</table>\n",
       "</div>"
      ],
      "text/plain": [
       "   type_id     type\n",
       "0        0    Movie\n",
       "1        1  TV Show"
      ]
     },
     "execution_count": 5,
     "metadata": {},
     "output_type": "execute_result"
    }
   ],
   "source": [
    "# Dimension de Tipo de Show. \n",
    "DimShowType = df_cleaned[['type']].drop_duplicates().reset_index(drop=True)\n",
    "\n",
    "# Convertir el índice en una columna llamada 'type_id'\n",
    "DimShowType['type_id'] = DimShowType.index\n",
    "\n",
    "# Reorganizar las columnas para que 'type_id' sea la primera\n",
    "DimShowType = DimShowType[['type_id', 'type']]\n",
    "\n",
    "DimShowType.head()"
   ]
  },
  {
   "cell_type": "markdown",
   "metadata": {},
   "source": [
    "### Dimension Paises donde se ha reproducido"
   ]
  },
  {
   "cell_type": "code",
   "execution_count": 6,
   "metadata": {},
   "outputs": [
    {
     "data": {
      "text/html": [
       "<div>\n",
       "<style scoped>\n",
       "    .dataframe tbody tr th:only-of-type {\n",
       "        vertical-align: middle;\n",
       "    }\n",
       "\n",
       "    .dataframe tbody tr th {\n",
       "        vertical-align: top;\n",
       "    }\n",
       "\n",
       "    .dataframe thead th {\n",
       "        text-align: right;\n",
       "    }\n",
       "</style>\n",
       "<table border=\"1\" class=\"dataframe\">\n",
       "  <thead>\n",
       "    <tr style=\"text-align: right;\">\n",
       "      <th></th>\n",
       "      <th>country_id</th>\n",
       "      <th>country</th>\n",
       "    </tr>\n",
       "  </thead>\n",
       "  <tbody>\n",
       "    <tr>\n",
       "      <th>0</th>\n",
       "      <td>0</td>\n",
       "      <td>United States</td>\n",
       "    </tr>\n",
       "    <tr>\n",
       "      <th>1</th>\n",
       "      <td>1</td>\n",
       "      <td>South Africa</td>\n",
       "    </tr>\n",
       "    <tr>\n",
       "      <th>2</th>\n",
       "      <td>2</td>\n",
       "      <td>India</td>\n",
       "    </tr>\n",
       "    <tr>\n",
       "      <th>3</th>\n",
       "      <td>3</td>\n",
       "      <td>Ghana</td>\n",
       "    </tr>\n",
       "    <tr>\n",
       "      <th>4</th>\n",
       "      <td>4</td>\n",
       "      <td>Burkina Faso</td>\n",
       "    </tr>\n",
       "  </tbody>\n",
       "</table>\n",
       "</div>"
      ],
      "text/plain": [
       "   country_id        country\n",
       "0           0  United States\n",
       "1           1   South Africa\n",
       "2           2          India\n",
       "3           3          Ghana\n",
       "4           4   Burkina Faso"
      ]
     },
     "execution_count": 6,
     "metadata": {},
     "output_type": "execute_result"
    }
   ],
   "source": [
    "# Dimension de Tipo de Ciudades. \n",
    "# Crear DimCountries utilizando chaining\n",
    "DimCountries = (\n",
    "    df_cleaned[['country']]\n",
    "    .dropna()\n",
    "    .assign(country=lambda df: df['country'].str.split(','))\n",
    "    .explode('country')\n",
    "    .assign(country=lambda df: df['country'].str.strip())\n",
    "    .loc[lambda df: df['country'] != '']  # Filtro para eliminar valores vacíos\n",
    "    .drop_duplicates()\n",
    "    .reset_index(drop=True)\n",
    "    .reset_index()\n",
    "    .rename(columns={'index': 'country_id'})\n",
    ")\n",
    "\n",
    "# Mostrar las primeras filas del DataFrame limpio para ver los cambios\n",
    "DimCountries.head()"
   ]
  },
  {
   "cell_type": "markdown",
   "metadata": {},
   "source": [
    "### Dimension de Elenco \n",
    "Se incluyen aquellas personas que participaron en la ejecución de la película o serie, con su clasificación de actor o director. "
   ]
  },
  {
   "cell_type": "code",
   "execution_count": 26,
   "metadata": {},
   "outputs": [
    {
     "data": {
      "text/html": [
       "<div>\n",
       "<style scoped>\n",
       "    .dataframe tbody tr th:only-of-type {\n",
       "        vertical-align: middle;\n",
       "    }\n",
       "\n",
       "    .dataframe tbody tr th {\n",
       "        vertical-align: top;\n",
       "    }\n",
       "\n",
       "    .dataframe thead th {\n",
       "        text-align: right;\n",
       "    }\n",
       "</style>\n",
       "<table border=\"1\" class=\"dataframe\">\n",
       "  <thead>\n",
       "    <tr style=\"text-align: right;\">\n",
       "      <th></th>\n",
       "      <th>cast_id</th>\n",
       "      <th>cast</th>\n",
       "      <th>type</th>\n",
       "    </tr>\n",
       "  </thead>\n",
       "  <tbody>\n",
       "    <tr>\n",
       "      <th>0</th>\n",
       "      <td>0</td>\n",
       "      <td>Ama Qamata</td>\n",
       "      <td>actor</td>\n",
       "    </tr>\n",
       "    <tr>\n",
       "      <th>1</th>\n",
       "      <td>1</td>\n",
       "      <td>Khosi Ngema</td>\n",
       "      <td>actor</td>\n",
       "    </tr>\n",
       "    <tr>\n",
       "      <th>2</th>\n",
       "      <td>2</td>\n",
       "      <td>Gail Mabalane</td>\n",
       "      <td>actor</td>\n",
       "    </tr>\n",
       "    <tr>\n",
       "      <th>3</th>\n",
       "      <td>3</td>\n",
       "      <td>Thabang Molaba</td>\n",
       "      <td>actor</td>\n",
       "    </tr>\n",
       "    <tr>\n",
       "      <th>4</th>\n",
       "      <td>4</td>\n",
       "      <td>Dillon Windvogel</td>\n",
       "      <td>actor</td>\n",
       "    </tr>\n",
       "  </tbody>\n",
       "</table>\n",
       "</div>"
      ],
      "text/plain": [
       "   cast_id              cast   type\n",
       "0        0        Ama Qamata  actor\n",
       "1        1       Khosi Ngema  actor\n",
       "2        2     Gail Mabalane  actor\n",
       "3        3    Thabang Molaba  actor\n",
       "4        4  Dillon Windvogel  actor"
      ]
     },
     "execution_count": 26,
     "metadata": {},
     "output_type": "execute_result"
    }
   ],
   "source": [
    "import pandas as pd\n",
    "\n",
    "# Crear DimCast_actors\n",
    "DimCast_actors = (\n",
    "    df_cleaned[['cast']]\n",
    "    .dropna()\n",
    "    .assign(cast=lambda df: df['cast'].str.split(','))\n",
    "    .explode('cast')\n",
    "    .assign(cast=lambda df: df['cast'].str.strip(), \n",
    "            type=\"actor\")\n",
    "    .drop_duplicates()\n",
    "    .reset_index(drop=True)\n",
    ")\n",
    "\n",
    "# Crear DimCast_directors\n",
    "DimCast_directors = (\n",
    "    df_cleaned[['director']]\n",
    "    .dropna()\n",
    "    .assign(director=lambda df: df['director'].str.split(','))\n",
    "    .explode('director')\n",
    "    .assign(director=lambda df: df['director'].str.strip(), \n",
    "            type=\"director\")\n",
    "    .drop_duplicates()\n",
    "    .reset_index(drop=True)\n",
    "    .rename(columns={'director': 'cast'})\n",
    ")\n",
    "\n",
    "# Combinar ambos DataFrames\n",
    "DimCast = pd.concat([DimCast_actors, DimCast_directors], ignore_index=True).drop_duplicates().reset_index(drop=True)\n",
    "\n",
    "# Asignar un cast_id único\n",
    "DimCast = DimCast.reset_index().rename(columns={'index': 'cast_id'})\n",
    "\n",
    "# Verificar el resultado\n",
    "DimCast.head()\n"
   ]
  },
  {
   "cell_type": "markdown",
   "metadata": {},
   "source": [
    "### Dimensión de Género de la Película"
   ]
  },
  {
   "cell_type": "code",
   "execution_count": 8,
   "metadata": {},
   "outputs": [
    {
     "data": {
      "text/html": [
       "<div>\n",
       "<style scoped>\n",
       "    .dataframe tbody tr th:only-of-type {\n",
       "        vertical-align: middle;\n",
       "    }\n",
       "\n",
       "    .dataframe tbody tr th {\n",
       "        vertical-align: top;\n",
       "    }\n",
       "\n",
       "    .dataframe thead th {\n",
       "        text-align: right;\n",
       "    }\n",
       "</style>\n",
       "<table border=\"1\" class=\"dataframe\">\n",
       "  <thead>\n",
       "    <tr style=\"text-align: right;\">\n",
       "      <th></th>\n",
       "      <th>genere_id</th>\n",
       "      <th>name</th>\n",
       "    </tr>\n",
       "  </thead>\n",
       "  <tbody>\n",
       "    <tr>\n",
       "      <th>0</th>\n",
       "      <td>0</td>\n",
       "      <td>Documentaries</td>\n",
       "    </tr>\n",
       "    <tr>\n",
       "      <th>1</th>\n",
       "      <td>1</td>\n",
       "      <td>International TV Shows</td>\n",
       "    </tr>\n",
       "    <tr>\n",
       "      <th>2</th>\n",
       "      <td>2</td>\n",
       "      <td>TV Dramas</td>\n",
       "    </tr>\n",
       "    <tr>\n",
       "      <th>3</th>\n",
       "      <td>3</td>\n",
       "      <td>TV Mysteries</td>\n",
       "    </tr>\n",
       "    <tr>\n",
       "      <th>4</th>\n",
       "      <td>4</td>\n",
       "      <td>Crime TV Shows</td>\n",
       "    </tr>\n",
       "  </tbody>\n",
       "</table>\n",
       "</div>"
      ],
      "text/plain": [
       "   genere_id                    name\n",
       "0          0           Documentaries\n",
       "1          1  International TV Shows\n",
       "2          2               TV Dramas\n",
       "3          3            TV Mysteries\n",
       "4          4          Crime TV Shows"
      ]
     },
     "execution_count": 8,
     "metadata": {},
     "output_type": "execute_result"
    }
   ],
   "source": [
    "DimGenres = (\n",
    "    df_cleaned[['listed_in']]\n",
    "    .dropna()\n",
    "    .assign(listed_in=lambda df: df['listed_in'].str.split(','))\n",
    "    .explode('listed_in')\n",
    "    .assign(listed_in=lambda df: df['listed_in'].str.strip())\n",
    "    .drop_duplicates()\n",
    "    .reset_index(drop=True)\n",
    "    .reset_index()\n",
    "    .rename(columns={'index': 'genere_id', 'listed_in': 'name'})\n",
    ")\n",
    "\n",
    "# Mostrar las primeras filas del DataFrame limpio para ver los cambios\n",
    "DimGenres.head()"
   ]
  },
  {
   "cell_type": "markdown",
   "metadata": {},
   "source": [
    "### Proceso de transformación de la tabla de Hecho \n",
    "En este proceso se tomo la base de datos original, se reestructuró para que fuera de forma tabular y por último se codificó de acuerdo a las dimensiones creadas anteriormente, esto para reducir el peso de la tabla ya que el tipo de dato string consume más bytes que el tipo integer. "
   ]
  },
  {
   "cell_type": "code",
   "execution_count": 11,
   "metadata": {},
   "outputs": [
    {
     "name": "stdout",
     "output_type": "stream",
     "text": [
      "show_id              object\n",
      "type                 object\n",
      "title                object\n",
      "cast_and_director    object\n",
      "country              object\n",
      "release_year          int64\n",
      "rating               object\n",
      "duration             object\n",
      "genre                object\n",
      "description          object\n",
      "date_added           object\n",
      "type_id               Int64\n",
      "country_id            Int64\n",
      "cast_id               Int64\n",
      "genre_id              Int64\n",
      "dtype: object\n"
     ]
    },
    {
     "data": {
      "text/html": [
       "<div>\n",
       "<style scoped>\n",
       "    .dataframe tbody tr th:only-of-type {\n",
       "        vertical-align: middle;\n",
       "    }\n",
       "\n",
       "    .dataframe tbody tr th {\n",
       "        vertical-align: top;\n",
       "    }\n",
       "\n",
       "    .dataframe thead th {\n",
       "        text-align: right;\n",
       "    }\n",
       "</style>\n",
       "<table border=\"1\" class=\"dataframe\">\n",
       "  <thead>\n",
       "    <tr style=\"text-align: right;\">\n",
       "      <th></th>\n",
       "      <th>show_id</th>\n",
       "      <th>type_id</th>\n",
       "      <th>title</th>\n",
       "      <th>cast_id</th>\n",
       "      <th>country_id</th>\n",
       "      <th>date_added</th>\n",
       "      <th>release_year</th>\n",
       "      <th>rating</th>\n",
       "      <th>duration</th>\n",
       "      <th>genre_id</th>\n",
       "      <th>description</th>\n",
       "    </tr>\n",
       "  </thead>\n",
       "  <tbody>\n",
       "    <tr>\n",
       "      <th>0</th>\n",
       "      <td>s1</td>\n",
       "      <td>0</td>\n",
       "      <td>Dick Johnson Is Dead</td>\n",
       "      <td>0</td>\n",
       "      <td>0</td>\n",
       "      <td>2021-09-25</td>\n",
       "      <td>2020</td>\n",
       "      <td>PG-13</td>\n",
       "      <td>90 min</td>\n",
       "      <td>0</td>\n",
       "      <td>As her father nears the end of his life, filmm...</td>\n",
       "    </tr>\n",
       "    <tr>\n",
       "      <th>1</th>\n",
       "      <td>s2</td>\n",
       "      <td>1</td>\n",
       "      <td>Blood &amp; Water</td>\n",
       "      <td>0</td>\n",
       "      <td>1</td>\n",
       "      <td>2021-09-24</td>\n",
       "      <td>2021</td>\n",
       "      <td>TV-MA</td>\n",
       "      <td>2 Seasons</td>\n",
       "      <td>1</td>\n",
       "      <td>After crossing paths at a party, a Cape Town t...</td>\n",
       "    </tr>\n",
       "    <tr>\n",
       "      <th>1</th>\n",
       "      <td>s2</td>\n",
       "      <td>1</td>\n",
       "      <td>Blood &amp; Water</td>\n",
       "      <td>0</td>\n",
       "      <td>1</td>\n",
       "      <td>2021-09-24</td>\n",
       "      <td>2021</td>\n",
       "      <td>TV-MA</td>\n",
       "      <td>2 Seasons</td>\n",
       "      <td>2</td>\n",
       "      <td>After crossing paths at a party, a Cape Town t...</td>\n",
       "    </tr>\n",
       "    <tr>\n",
       "      <th>1</th>\n",
       "      <td>s2</td>\n",
       "      <td>1</td>\n",
       "      <td>Blood &amp; Water</td>\n",
       "      <td>0</td>\n",
       "      <td>1</td>\n",
       "      <td>2021-09-24</td>\n",
       "      <td>2021</td>\n",
       "      <td>TV-MA</td>\n",
       "      <td>2 Seasons</td>\n",
       "      <td>3</td>\n",
       "      <td>After crossing paths at a party, a Cape Town t...</td>\n",
       "    </tr>\n",
       "    <tr>\n",
       "      <th>1</th>\n",
       "      <td>s2</td>\n",
       "      <td>1</td>\n",
       "      <td>Blood &amp; Water</td>\n",
       "      <td>1</td>\n",
       "      <td>1</td>\n",
       "      <td>2021-09-24</td>\n",
       "      <td>2021</td>\n",
       "      <td>TV-MA</td>\n",
       "      <td>2 Seasons</td>\n",
       "      <td>1</td>\n",
       "      <td>After crossing paths at a party, a Cape Town t...</td>\n",
       "    </tr>\n",
       "  </tbody>\n",
       "</table>\n",
       "</div>"
      ],
      "text/plain": [
       "  show_id  type_id                 title  cast_id  country_id  date_added  \\\n",
       "0      s1        0  Dick Johnson Is Dead        0           0  2021-09-25   \n",
       "1      s2        1         Blood & Water        0           1  2021-09-24   \n",
       "1      s2        1         Blood & Water        0           1  2021-09-24   \n",
       "1      s2        1         Blood & Water        0           1  2021-09-24   \n",
       "1      s2        1         Blood & Water        1           1  2021-09-24   \n",
       "\n",
       "   release_year rating   duration  genre_id  \\\n",
       "0          2020  PG-13     90 min         0   \n",
       "1          2021  TV-MA  2 Seasons         1   \n",
       "1          2021  TV-MA  2 Seasons         2   \n",
       "1          2021  TV-MA  2 Seasons         3   \n",
       "1          2021  TV-MA  2 Seasons         1   \n",
       "\n",
       "                                         description  \n",
       "0  As her father nears the end of his life, filmm...  \n",
       "1  After crossing paths at a party, a Cape Town t...  \n",
       "1  After crossing paths at a party, a Cape Town t...  \n",
       "1  After crossing paths at a party, a Cape Town t...  \n",
       "1  After crossing paths at a party, a Cape Town t...  "
      ]
     },
     "execution_count": 11,
     "metadata": {},
     "output_type": "execute_result"
    }
   ],
   "source": [
    "# Proceso de Transformación del FactShows\n",
    "# Crear la tabla de hechos FactShows\n",
    "FactShows = df_cleaned.copy()\n",
    "\n",
    "FactShows['cast_and_director'] = FactShows[['director', 'cast']].apply(lambda x: ', '.join(x.dropna()), axis=1)\n",
    "\n",
    "# Separar los valores de las columnas 'country', 'director' y 'listed_in'\n",
    "FactShows = (\n",
    "    FactShows[['show_id', 'type', 'title', 'cast_and_director', 'country', 'release_year', 'rating', 'duration', 'listed_in', 'description', 'date_added']]\n",
    "    .assign(country=lambda df: df['country'].str.split(','))\n",
    "    .explode('country')\n",
    "    .assign(country=lambda df: df['country'].str.strip())\n",
    "    .loc[lambda df: df['country'] != '']\n",
    "    .assign(cast_and_director=lambda df: df['cast_and_director'].str.split(','))\n",
    "    .explode('cast_and_director')\n",
    "    .assign(cast_and_director=lambda df: df['cast_and_director'].str.strip())\n",
    "    .assign(listed_in=lambda df: df['listed_in'].str.split(','))\n",
    "    .explode('listed_in')\n",
    "    .assign(listed_in=lambda df: df['listed_in'].str.strip())\n",
    ")\n",
    "\n",
    "# Renombrar la columna 'listed_in' a 'genre' para mayor claridad\n",
    "FactShows = FactShows.rename(columns={'listed_in': 'genre'})\n",
    "\n",
    "# Crear diccionarios para codificar las dimensiones\n",
    "show_type_dict = DimShowType.set_index('type')['type_id'].to_dict()\n",
    "country_dict = DimCountries.set_index('country')['country_id'].to_dict()\n",
    "cast_dict = DimCast.set_index('elenco')['cast_id'].to_dict()\n",
    "genre_dict = DimGenres.set_index('name')['genere_id'].to_dict()\n",
    "\n",
    "# Codificar las columnas en FactShows\n",
    "# Asignar las nuevas columnas con los IDs correspondientes y manejar valores no mapeados\n",
    "FactShows['type_id'] = FactShows['type'].map(show_type_dict).astype('Int64')\n",
    "FactShows['country_id'] = FactShows['country'].map(country_dict).astype('Int64')\n",
    "FactShows['cast_id'] = FactShows['cast_and_director'].map(cast_dict).astype('Int64')\n",
    "FactShows['genre_id'] = FactShows['genre'].map(genre_dict).astype('Int64')\n",
    "\n",
    "FactShows['date_added'] = pd.to_datetime(FactShows['date_added'], errors='coerce')\n",
    "\n",
    "# Formatear la fecha al formato YYYY-MM-DD\n",
    "FactShows['date_added'] = FactShows['date_added'].dt.strftime('%Y-%m-%d')\n",
    "\n",
    "# Verificar los tipos de datos de las nuevas columnas\n",
    "print(FactShows.dtypes)\n",
    "# Seleccionar y reorganizar las columnas para la tabla de hechos\n",
    "FactShows = FactShows[['show_id', 'type_id', 'title', 'cast_id', 'country_id', 'date_added', 'release_year', 'rating', 'duration', 'genre_id', 'description']]\n",
    "\n",
    "# Mostrar las primeras filas del DataFrame FactShows codificado\n",
    "FactShows.head()"
   ]
  },
  {
   "cell_type": "markdown",
   "metadata": {},
   "source": [
    "## Cargue de cada una de las tablas a la base de datos "
   ]
  },
  {
   "cell_type": "code",
   "execution_count": 12,
   "metadata": {},
   "outputs": [],
   "source": [
    "con = duckdb.connect('my_database.db')"
   ]
  },
  {
   "cell_type": "markdown",
   "metadata": {},
   "source": [
    "### Se inserta la información en la base de datos "
   ]
  },
  {
   "cell_type": "markdown",
   "metadata": {},
   "source": [
    "#### FactShows"
   ]
  },
  {
   "cell_type": "code",
   "execution_count": 31,
   "metadata": {},
   "outputs": [
    {
     "data": {
      "text/plain": [
       "<duckdb.duckdb.DuckDBPyConnection at 0x250e94e0af0>"
      ]
     },
     "execution_count": 31,
     "metadata": {},
     "output_type": "execute_result"
    }
   ],
   "source": [
    "# Crear la tabla FactShows\n",
    "con.register('temp_factshows', FactShows)\n",
    "con.execute('INSERT INTO FactShows SELECT * FROM temp_factshows')\n",
    "# Eliminar la tabla temporal\n",
    "con.execute('DROP VIEW IF EXISTS temp_factshows')\n",
    "print(\"Se insertaron registros\", con.execute('SELECT COUNT(*) FROM FactShows').fetchall(), \"a la tabla FactShows\")"
   ]
  },
  {
   "cell_type": "markdown",
   "metadata": {},
   "source": [
    "#### DimDate"
   ]
  },
  {
   "cell_type": "code",
   "execution_count": 21,
   "metadata": {},
   "outputs": [
    {
     "name": "stdout",
     "output_type": "stream",
     "text": [
      "Se insertaron registros [(5940,)] a la tabla DimDate\n"
     ]
    }
   ],
   "source": [
    "# Crear la tabla DimDate y poblarla usando to_sql\n",
    "con.register('temp_dimdate', DimDate)\n",
    "con.execute('INSERT INTO DimDate SELECT * FROM temp_dimdate')\n",
    "# Eliminar la tabla temporal\n",
    "con.execute('DROP VIEW IF EXISTS temp_dimdate')\n",
    "print(\"Se insertaron registros\", con.execute('SELECT COUNT(*) FROM DimDate').fetchall(), \"a la tabla DimDate\")"
   ]
  },
  {
   "cell_type": "markdown",
   "metadata": {},
   "source": [
    "### DimCast"
   ]
  },
  {
   "cell_type": "code",
   "execution_count": 27,
   "metadata": {},
   "outputs": [
    {
     "name": "stdout",
     "output_type": "stream",
     "text": [
      "Se insertaron registros [(41460,)] a la tabla DimCast\n"
     ]
    }
   ],
   "source": [
    "# Crear la tabla DimCast y poblarla usando to_sql\n",
    "con.register('temp_dimcast', DimCast)\n",
    "con.execute('INSERT INTO DimCast SELECT * FROM temp_dimcast')\n",
    "# Eliminar la tabla temporal\n",
    "con.execute('DROP VIEW IF EXISTS temp_dimcast')\n",
    "print(\"Se insertaron registros\", con.execute('SELECT COUNT(*) FROM DimCast').fetchall(), \"a la tabla DimCast\")"
   ]
  },
  {
   "cell_type": "markdown",
   "metadata": {},
   "source": [
    "#### DimShowType"
   ]
  },
  {
   "cell_type": "code",
   "execution_count": 33,
   "metadata": {},
   "outputs": [
    {
     "name": "stdout",
     "output_type": "stream",
     "text": [
      "Se insertaron registros [(2,)] a la tabla DimShowType\n"
     ]
    }
   ],
   "source": [
    "# Crear la tabla DimShowType y poblarla usando to_sql\n",
    "con.register('temp_dimshowtype', DimShowType)\n",
    "con.execute('INSERT INTO DimShowType SELECT * FROM temp_dimshowtype')\n",
    "# Eliminar la tabla temporal\n",
    "con.execute('DROP VIEW IF EXISTS temp_dimshowtype')\n",
    "print(\"Se insertaron registros\", con.execute('SELECT COUNT(*) FROM DimShowType').fetchall(), \"a la tabla DimShowType\")"
   ]
  },
  {
   "cell_type": "markdown",
   "metadata": {},
   "source": [
    "#### DimGenres"
   ]
  },
  {
   "cell_type": "code",
   "execution_count": 34,
   "metadata": {},
   "outputs": [
    {
     "name": "stdout",
     "output_type": "stream",
     "text": [
      "Se insertaron registros [(48,)] a la tabla DimGenres\n"
     ]
    }
   ],
   "source": [
    "# Crear la tabla DimGenres y poblarla usando to_sql\n",
    "con.register('temp_dimgenre', DimGenres)\n",
    "con.execute('INSERT INTO DimGenres SELECT * FROM temp_dimgenre')\n",
    "# Eliminar la tabla temporal\n",
    "con.execute('DROP VIEW IF EXISTS temp_dimgenre')\n",
    "print(\"Se insertaron registros\", con.execute('SELECT COUNT(*) FROM DimGenres').fetchall(), \"a la tabla DimGenres\")"
   ]
  },
  {
   "cell_type": "markdown",
   "metadata": {},
   "source": [
    "#### DimCounties"
   ]
  },
  {
   "cell_type": "code",
   "execution_count": 35,
   "metadata": {},
   "outputs": [
    {
     "name": "stdout",
     "output_type": "stream",
     "text": [
      "Se insertaron registros [(122,)] a la tabla DimCountries\n"
     ]
    }
   ],
   "source": [
    "# Crear la tabla DimCountries y poblarla usando to_sql\n",
    "con.register('temp_dimcountry', DimCountries)\n",
    "con.execute('INSERT INTO DimCountries SELECT * FROM temp_dimcountry')\n",
    "# Eliminar la tabla temporal\n",
    "con.execute('DROP VIEW IF EXISTS temp_dimcountry')\n",
    "print(\"Se insertaron registros\", con.execute('SELECT COUNT(*) FROM DimCountries').fetchall(), \"a la tabla DimCountries\")"
   ]
  },
  {
   "cell_type": "code",
   "execution_count": 36,
   "metadata": {},
   "outputs": [],
   "source": [
    "# Se cierra la conexión a la base de datos\n",
    "con.close()"
   ]
  }
 ],
 "metadata": {
  "kernelspec": {
   "display_name": "venv",
   "language": "python",
   "name": "python3"
  },
  "language_info": {
   "codemirror_mode": {
    "name": "ipython",
    "version": 3
   },
   "file_extension": ".py",
   "mimetype": "text/x-python",
   "name": "python",
   "nbconvert_exporter": "python",
   "pygments_lexer": "ipython3",
   "version": "3.9.13"
  }
 },
 "nbformat": 4,
 "nbformat_minor": 2
}

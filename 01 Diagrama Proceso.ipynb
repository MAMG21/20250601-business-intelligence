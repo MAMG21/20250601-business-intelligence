{
 "cells": [
  {
   "cell_type": "markdown",
   "metadata": {},
   "source": [
    "# Diseño de Arquitectura Proceso en la Nube\n",
    "\n",
    "Diseña, en un diagrama conceptual, una arquitectura para un ETL en la nube. No debes implementarla, solo el diseño.\n",
    "\n",
    "![Arquitectura ETL Nube](DiagramaBI.png)"
   ]
  }
 ],
 "metadata": {
  "language_info": {
   "name": "python"
  }
 },
 "nbformat": 4,
 "nbformat_minor": 2
}
